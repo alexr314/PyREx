{
 "cells": [
  {
   "cell_type": "code",
   "execution_count": 1,
   "id": "357f5933",
   "metadata": {},
   "outputs": [
    {
     "name": "stdout",
     "output_type": "stream",
     "text": [
      "Reading in CO2\n",
      "Reading in CO\n",
      "Reading in NH3\n",
      "Reading in CH4\n",
      "Reading in H2O\n",
      "Temperature grid: [ 100.  200.  300.  400.  500.  600.  700.  800.  900. 1000. 1100. 1200.\n",
      " 1300. 1400. 1500. 1600. 1700. 1800. 1900. 2000. 2200. 2400. 2600. 2800.\n",
      " 3000. 3200. 3400.]\n",
      "Pressure grid: [1.00000000e-05 2.15443469e-05 4.64158883e-05 1.00000000e-04\n",
      " 2.15443469e-04 4.64158883e-04 1.00000000e-03 2.15443469e-03\n",
      " 4.64158883e-03 1.00000000e-02 2.15443469e-02 4.64158883e-02\n",
      " 1.00000000e-01 2.15443469e-01 4.64158883e-01 1.00000000e+00\n",
      " 2.15443469e+00 4.64158883e+00 1.00000000e+01 2.15443469e+01\n",
      " 4.64158883e+01 1.00000000e+02]\n"
     ]
    }
   ],
   "source": [
    "import numpy as np\n",
    "import matplotlib.pyplot as plt\n",
    "import os\n",
    "from utils import LineList\n",
    "from scipy.special import exp1\n",
    "from physical_constants import RJ, Rsun, MJ, k_B, Gnewton, mamu, gamma\n",
    "from interpolator import get_interpolated_cross_sections\n",
    "from ariel_wavelengths import ariel_wavelengths, ariel_bins\n",
    "from forward_model import compute_modulation"
   ]
  },
  {
   "cell_type": "code",
   "execution_count": 4,
   "id": "f7c0ce36",
   "metadata": {},
   "outputs": [
    {
     "name": "stdout",
     "output_type": "stream",
     "text": [
      "tau min: 0.0006284462853545173 tau max: 4615711470.407677\n"
     ]
    },
    {
     "data": {
      "text/plain": [
       "array([0.10373663, 0.10373708, 0.10373756, ..., 0.10266836, 0.10266838,\n",
       "       0.10266837], shape=(76744,))"
      ]
     },
     "execution_count": 4,
     "metadata": {},
     "output_type": "execute_result"
    }
   ],
   "source": [
    "### Parameters for the planet and star:\n",
    "concentrations = {\n",
    "    'CO2': 0.0, \n",
    "    'CO' : 0.0, \n",
    "    'NH3': 0.0, \n",
    "    'CH4': 0.0, \n",
    "    'H2O': 0.01,\n",
    "}\n",
    "\n",
    "temperature = 300  # temperature in Kelvin\n",
    "pressure = 10 # pressure in bars!\n",
    "planet_radius = RJ  # radius of the planet in meters\n",
    "star_radius = Rsun  # radius of the star in meters\n",
    "planet_mass = MJ    # mass of the planet in kg\n",
    "g = Gnewton * planet_mass / (planet_radius**2)  # gravitational acceleration at the surface of the planet\n",
    "\n",
    "compute_modulation(\n",
    "    concentrations=concentrations,\n",
    "    temperature=temperature,\n",
    "    pressure=pressure,\n",
    "    planet_radius=planet_radius,\n",
    "    star_radius=star_radius,\n",
    "    g=g\n",
    ")"
   ]
  },
  {
   "cell_type": "code",
   "execution_count": null,
   "id": "b19857c3",
   "metadata": {},
   "outputs": [],
   "source": []
  }
 ],
 "metadata": {
  "kernelspec": {
   "display_name": "Python 3",
   "language": "python",
   "name": "python3"
  },
  "language_info": {
   "codemirror_mode": {
    "name": "ipython",
    "version": 3
   },
   "file_extension": ".py",
   "mimetype": "text/x-python",
   "name": "python",
   "nbconvert_exporter": "python",
   "pygments_lexer": "ipython3",
   "version": "3.12.4"
  }
 },
 "nbformat": 4,
 "nbformat_minor": 5
}
