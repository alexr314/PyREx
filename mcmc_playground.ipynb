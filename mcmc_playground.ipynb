{
 "cells": [
  {
   "cell_type": "code",
   "execution_count": 1,
   "id": "5e3d63d2",
   "metadata": {},
   "outputs": [],
   "source": [
    "import numpy as np\n",
    "from numpy import random \n",
    "import matplotlib.pyplot as plt\n",
    "from physical_constants import RJ, Rsun, MJ, Gnewton\n",
    "from ariel_wavelengths import ariel_wavelengths\n",
    "from forward_model import compute_binned_modulations\n",
    "plt.style.use('dark_background')"
   ]
  },
  {
   "cell_type": "code",
   "execution_count": 2,
   "id": "7b351553",
   "metadata": {},
   "outputs": [],
   "source": [
    "### Parameters for the planet and star:\n",
    "temperature = 300  # temperature in Kelvin\n",
    "pressure = 10 # pressure in bars!\n",
    "planet_radius = RJ  # radius of the planet in meters\n",
    "star_radius = Rsun  # radius of the star in meters\n",
    "planet_mass = MJ    # mass of the planet in kg\n",
    "g = Gnewton * planet_mass / (planet_radius**2)  # gravitational acceleration at the surface of the planet\n",
    "\n",
    "### Define the atmospheric concentrations of the gases:\n",
    "concentrations = {\n",
    "    'CO2': 0.0, \n",
    "    'CO' : 0.0, \n",
    "    'NH3': 0.0, \n",
    "    'CH4': 0.0, \n",
    "    'H2O': 0.01,\n",
    "}\n",
    "\n",
    "modulations = compute_binned_modulations(\n",
    "    concentrations=concentrations,\n",
    "    temperature=temperature,\n",
    "    pressure=pressure,\n",
    "    planet_radius=planet_radius,\n",
    "    star_radius=star_radius,\n",
    "    g=g\n",
    ")"
   ]
  },
  {
   "cell_type": "markdown",
   "id": "098c3e80",
   "metadata": {},
   "source": [
    "### MCMC"
   ]
  },
  {
   "cell_type": "code",
   "execution_count": 3,
   "id": "45e3f90d",
   "metadata": {},
   "outputs": [],
   "source": [
    "from emilie_mcmc_utils import random_choice, get_log_likelihood, sample_proposal"
   ]
  },
  {
   "cell_type": "code",
   "execution_count": 4,
   "id": "f361bbe8",
   "metadata": {},
   "outputs": [],
   "source": [
    "# definition of bounds for fitted parameters\n",
    "temp_min = 150  \n",
    "temp_max = 250\n",
    "# constants RJ and RSUN defined in physical_constants.py\n",
    "# we take here plus and minus 10%\n",
    "plrad_min = RJ - (0.1*RJ)\n",
    "plrad_max = RJ + (0.1*RJ)\n",
    "starrad_min = Rsun - (0.1*Rsun)\n",
    "starrad_max = Rsun + (0.1*Rsun)"
   ]
  },
  {
   "cell_type": "code",
   "execution_count": 5,
   "id": "df345e20",
   "metadata": {},
   "outputs": [],
   "source": [
    "starting_state = random_choice(temp_min, temp_max, plrad_min, plrad_max, starrad_min, starrad_max)"
   ]
  },
  {
   "cell_type": "markdown",
   "id": "57c28ea0",
   "metadata": {},
   "source": [
    "Given the current parameter state and likelihood:\n",
    "\n",
    "1. Propose a new candidate state.\n",
    "2. Evaluate the new likelihood.\n",
    "3. Accept or reject based on the Metropolis criterion:\n",
    "\n",
    "$$r = \\exp(\\log \\mathcal{L}_{\\text{new}} - \\log \\mathcal{L}_{\\text{current}})$$\n",
    "\n",
    "If $r > \\text{uniform}(0,1)$, accept the new state."
   ]
  },
  {
   "cell_type": "code",
   "execution_count": null,
   "id": "59b04738",
   "metadata": {},
   "outputs": [],
   "source": [
    "# MCMC updater\n",
    "def mcmc_updater(curr_state, curr_likeli, likelihood, proposal_distribution):\n",
    "    proposal_state = proposal_distribution(curr_state)\n",
    "    prop_likeli = likelihood(proposal_state)\n",
    "\n",
    "    # Metropolis acceptance\n",
    "    accept_ratio = np.exp(prop_likeli - curr_likeli)\n",
    "    accept_threshold = np.random.uniform(0, 1)\n",
    "\n",
    "    if accept_ratio > accept_threshold:\n",
    "        return proposal_state, prop_likeli\n",
    "    return curr_state, curr_likeli"
   ]
  },
  {
   "cell_type": "code",
   "execution_count": null,
   "id": "1b1a175c",
   "metadata": {},
   "outputs": [],
   "source": []
  }
 ],
 "metadata": {
  "kernelspec": {
   "display_name": "Python 3",
   "language": "python",
   "name": "python3"
  },
  "language_info": {
   "codemirror_mode": {
    "name": "ipython",
    "version": 3
   },
   "file_extension": ".py",
   "mimetype": "text/x-python",
   "name": "python",
   "nbconvert_exporter": "python",
   "pygments_lexer": "ipython3",
   "version": "3.12.4"
  }
 },
 "nbformat": 4,
 "nbformat_minor": 5
}
